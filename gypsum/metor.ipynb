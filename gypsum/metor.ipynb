{
 "cells": [
  {
   "cell_type": "code",
   "execution_count": 1,
   "metadata": {},
   "outputs": [],
   "source": [
    "a = open('../pretrain_models/gypsum_gat_full/model.json','r').readlines()"
   ]
  },
  {
   "cell_type": "code",
   "execution_count": 2,
   "metadata": {},
   "outputs": [
    {
     "data": {
      "text/plain": [
       "'{\"id\": 0, \"code\": \"private int current depth ( ) { try { integer one based = ( ( integer ) depth field . get ( this ) ) ; return one based - num ; } catch ( illegal access exception e ) { throw new assertion error ( e ) ; } }\", \"predictions\": [\"returns a 0 - based depth within the object graph of the current object being serialized .\"], \"references\": [\"returns a 0 - based depth within the object graph of the current object being serialized .\"], \"bleu\": 1.0, \"rouge_l\": 1.0}\\n'"
      ]
     },
     "execution_count": 2,
     "metadata": {},
     "output_type": "execute_result"
    }
   ],
   "source": [
    "a[0]"
   ]
  },
  {
   "cell_type": "code",
   "execution_count": 3,
   "metadata": {},
   "outputs": [],
   "source": [
    "import json\n",
    "data = [json.loads(i) for i in a]"
   ]
  },
  {
   "cell_type": "code",
   "execution_count": 4,
   "metadata": {},
   "outputs": [],
   "source": [
    "sources, hypotheses, references, copy_dict = dict(), dict(), dict(), dict()\n",
    "for item in data:\n",
    "  key = item['id']\n",
    "  hypothese = item['predictions']\n",
    "  reference = item['references']\n",
    "  if len(reference)<1:\n",
    "    print(111)\n",
    "  src = item['code']\n",
    "  sources[key] = src\n",
    "  hypotheses[key] = hypothese \n",
    "  references[key] = reference"
   ]
  },
  {
   "cell_type": "code",
   "execution_count": 5,
   "metadata": {},
   "outputs": [],
   "source": [
    "import sys\n",
    "sys.path.append(\"..\")\n",
    "from utils.bert_utils import *\n"
   ]
  },
  {
   "cell_type": "code",
   "execution_count": 7,
   "metadata": {},
   "outputs": [],
   "source": [
    "copy_dict = None\n",
    "class Config:\n",
    "  def __init__(self):\n",
    "    self.print_one_target = False\n",
    "config = Config()\n",
    "bleu, rouge_l, meteor, precision, recall, f1 = eval_accuracies(config,\n",
    "                                                                hypotheses,\n",
    "                                                                references,\n",
    "                                                                copy_dict,\n",
    "                                                                sources=sources,\n",
    "                                                                filename='./test.txt',\n",
    "                                                                print_copy_info=False,\n",
    "                                                                mode='test')\n",
    "result = dict()\n",
    "result['bleu'] = bleu\n",
    "result['rouge_l'] = rouge_l\n",
    "result['meteor'] = meteor\n",
    "result['precision'] = precision\n",
    "result['recall'] = recall\n",
    "result['f1'] = f1\n"
   ]
  },
  {
   "cell_type": "code",
   "execution_count": 8,
   "metadata": {},
   "outputs": [
    {
     "data": {
      "text/plain": [
       "{'bleu': 48.64701560483243,\n",
       " 'rouge_l': 60.80670498184598,\n",
       " 'meteor': 30.752648463164473,\n",
       " 'precision': 67.63430376866158,\n",
       " 'recall': 62.458524963916894,\n",
       " 'f1': 62.55269839146605}"
      ]
     },
     "execution_count": 8,
     "metadata": {},
     "output_type": "execute_result"
    }
   ],
   "source": [
    "result"
   ]
  },
  {
   "cell_type": "code",
   "execution_count": null,
   "metadata": {},
   "outputs": [],
   "source": []
  }
 ],
 "metadata": {
  "interpreter": {
   "hash": "f1ef2a2fcac29384435d8a863080c277ac996ea1b6921b17dd88fa72336a15a6"
  },
  "kernelspec": {
   "display_name": "Python 3.6.12 64-bit ('wy': conda)",
   "language": "python",
   "name": "python3"
  },
  "language_info": {
   "codemirror_mode": {
    "name": "ipython",
    "version": 3
   },
   "file_extension": ".py",
   "mimetype": "text/x-python",
   "name": "python",
   "nbconvert_exporter": "python",
   "pygments_lexer": "ipython3",
   "version": "3.6.12"
  },
  "orig_nbformat": 4
 },
 "nbformat": 4,
 "nbformat_minor": 2
}
