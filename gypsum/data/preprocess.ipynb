{
 "cells": [
  {
   "cell_type": "code",
   "execution_count": 173,
   "source": [
    "import javalang\n",
    "from javalang.ast import Node\n",
    "from transformers import RobertaTokenizer, RobertaConfig, RobertaModel, DataCollatorWithPadding\n",
    "from anytree import AnyNode\n",
    "from tqdm import tqdm\n",
    "\n",
    "\n",
    "# use javalang to generate ASTs and depth-first traverse to generate ast nodes corpus\n",
    "def get_token(node):\n",
    "    token = 'None'\n",
    "    if isinstance(node, str):\n",
    "        token = node\n",
    "    elif isinstance(node, set):\n",
    "        token = 'Modifier'\n",
    "    elif isinstance(node, Node):\n",
    "        token = node.__class__.__name__\n",
    "    return token\n",
    "\n",
    "\n",
    "def get_child(root):\n",
    "    if isinstance(root, Node):\n",
    "        children = root.children\n",
    "    elif isinstance(root, set):\n",
    "        children = list(root)\n",
    "    else:\n",
    "        children = []\n",
    "\n",
    "    def expand(nested_list):\n",
    "        for item in nested_list:\n",
    "            if isinstance(item, list):\n",
    "                for sub_item in expand(item):\n",
    "                    yield sub_item\n",
    "            elif item:\n",
    "                yield item\n",
    "\n",
    "    return list(expand(children))\n",
    "\n",
    "\n",
    "def get_sequence(node, sequence):\n",
    "    token, children = get_token(node), get_child(node)\n",
    "    # print(node,token)\n",
    "    # print(children)\n",
    "    if not children:\n",
    "        try:\n",
    "            print(token)\n",
    "            print(node.position)\n",
    "        except:\n",
    "            pass\n",
    "    if token in ['VariableDeclarator', 'MemberReference']:\n",
    "        if node.children:  # some chidren are comprised by non-utf8 and will be removed\n",
    "            # print([i for i in node.children if isinstance(i,str)])\n",
    "            sequence.append(node.children[0])\n",
    "    if isinstance(node,str):\n",
    "        sequence.append(token)\n",
    "    for child in children:\n",
    "        get_sequence(child, sequence)\n",
    "\n",
    "\n",
    "def parse_program(func):\n",
    "    tokens = javalang.tokenizer.tokenize(func)\n",
    "    parser = javalang.parser.Parser(tokens)\n",
    "    tree = parser.parse_member_declaration()\n",
    "    return tree\n"
   ],
   "outputs": [],
   "metadata": {}
  },
  {
   "cell_type": "code",
   "execution_count": 174,
   "source": [
    "code = '''\n",
    "private void updateRatingChoice ( ) { int current = m_chRating . getSelectedIndex ( ) ; m_chRating . removeAllItems ( ) ; FactionRecord fRec = ( FactionRecord ) m_chSubfaction . getSelectedItem ( ) ; if ( fRec == null ) { fRec = ( FactionRecord ) m_chFaction . getSelectedItem ( ) ; } ArrayList < String > ratingLevels = fRec . getRatingLevels ( ) ; if ( ratingLevels . isEmpty ( ) ) { ratingLevels = fRec . getRatingLevelSystem ( ) ; } if ( ratingLevels . size ( ) > _NUM ) { for ( int i = ratingLevels . size ( ) - _NUM ; i >= _NUM ; i -- ) { m_chRating . addItem ( ratingLevels . get ( i ) ) ; } } if ( current < _NUM && m_chRating . getItemCount ( ) > _NUM ) { m_chRating . setSelectedIndex ( _NUM ) ; } else { m_chRating . setSelectedIndex ( Math . min ( current , m_chRating . getItemCount ( ) - _NUM ) ) ; } }\n",
    "'''"
   ],
   "outputs": [],
   "metadata": {}
  },
  {
   "cell_type": "code",
   "execution_count": 175,
   "source": [
    "a = []"
   ],
   "outputs": [],
   "metadata": {}
  },
  {
   "cell_type": "code",
   "execution_count": null,
   "source": [],
   "outputs": [],
   "metadata": {}
  },
  {
   "cell_type": "code",
   "execution_count": 177,
   "source": [
    "get_sequence(parse_program(code),a)"
   ],
   "outputs": [
    {
     "output_type": "stream",
     "name": "stdout",
     "text": [
      "private\n",
      "updateRatingChoice\n",
      "int\n",
      "current\n",
      "m_chRating\n",
      "getSelectedIndex\n",
      "m_chRating\n",
      "removeAllItems\n",
      "FactionRecord\n",
      "fRec\n",
      "FactionRecord\n",
      "m_chSubfaction\n",
      "getSelectedItem\n",
      "==\n",
      "fRec\n",
      "null\n",
      "fRec\n",
      "FactionRecord\n",
      "m_chFaction\n",
      "getSelectedItem\n",
      "=\n",
      "ArrayList\n",
      "String\n",
      "ratingLevels\n",
      "fRec\n",
      "getRatingLevels\n",
      "ratingLevels\n",
      "isEmpty\n",
      "ratingLevels\n",
      "fRec\n",
      "getRatingLevelSystem\n",
      "=\n",
      ">\n",
      "ratingLevels\n",
      "size\n",
      "_NUM\n",
      "int\n",
      "i\n",
      "-\n",
      "ratingLevels\n",
      "size\n",
      "_NUM\n",
      ">=\n",
      "i\n",
      "_NUM\n",
      "--\n",
      "i\n",
      "m_chRating\n",
      "ratingLevels\n",
      "i\n",
      "get\n",
      "addItem\n",
      "&&\n",
      "<\n",
      "current\n",
      "_NUM\n",
      ">\n",
      "m_chRating\n",
      "getItemCount\n",
      "_NUM\n",
      "m_chRating\n",
      "_NUM\n",
      "setSelectedIndex\n",
      "m_chRating\n",
      "Math\n",
      "current\n",
      "-\n",
      "m_chRating\n",
      "getItemCount\n",
      "_NUM\n",
      "min\n",
      "setSelectedIndex\n"
     ]
    }
   ],
   "metadata": {}
  },
  {
   "cell_type": "code",
   "execution_count": 36,
   "source": [
    "print(code)\n",
    "print(' '.join(a))"
   ],
   "outputs": [
    {
     "output_type": "stream",
     "name": "stdout",
     "text": [
      "\n",
      "private void updateRatingChoice ( ) { int current = m_chRating . getSelectedIndex ( ) ; m_chRating . removeAllItems ( ) ; FactionRecord fRec = ( FactionRecord ) m_chSubfaction . getSelectedItem ( ) ; if ( fRec == null ) { fRec = ( FactionRecord ) m_chFaction . getSelectedItem ( ) ; } ArrayList < String > ratingLevels = fRec . getRatingLevels ( ) ; if ( ratingLevels . isEmpty ( ) ) { ratingLevels = fRec . getRatingLevelSystem ( ) ; } if ( ratingLevels . size ( ) > _NUM ) { for ( int i = ratingLevels . size ( ) - _NUM ; i >= _NUM ; i -- ) { m_chRating . addItem ( ratingLevels . get ( i ) ) ; } } if ( current < _NUM && m_chRating . getItemCount ( ) > _NUM ) { m_chRating . setSelectedIndex ( _NUM ) ; } else { m_chRating . setSelectedIndex ( Math . min ( current , m_chRating . getItemCount ( ) - _NUM ) ) ; } }\n",
      "\n",
      "private updateRatingChoice int current m_chRating getSelectedIndex m_chRating removeAllItems FactionRecord fRec FactionRecord m_chSubfaction getSelectedItem == fRec null fRec FactionRecord m_chFaction getSelectedItem = ArrayList String ratingLevels fRec getRatingLevels ratingLevels isEmpty ratingLevels fRec getRatingLevelSystem = > ratingLevels size _NUM int i - ratingLevels size _NUM >= i _NUM -- i m_chRating ratingLevels i get addItem && < current _NUM > m_chRating getItemCount _NUM m_chRating _NUM setSelectedIndex m_chRating Math current - m_chRating getItemCount _NUM min setSelectedIndex\n"
     ]
    }
   ],
   "metadata": {}
  },
  {
   "cell_type": "code",
   "execution_count": 2,
   "source": [
    "def get_token(node):\n",
    "    token = 'None'\n",
    "    if isinstance(node, str):\n",
    "        token = node\n",
    "    elif isinstance(node, set):\n",
    "        token = 'Modifier'\n",
    "    elif isinstance(node, Node):\n",
    "        token = node.__class__.__name__\n",
    "    return token\n"
   ],
   "outputs": [],
   "metadata": {}
  },
  {
   "cell_type": "code",
   "execution_count": 1,
   "source": [
    "def get_token(node):\n",
    "    token = 'None'\n",
    "    if isinstance(node, str):\n",
    "        token = node\n",
    "    elif isinstance(node, set):\n",
    "        token = 'Modifier'\n",
    "    elif isinstance(node, Node):\n",
    "        token = node.__class__.__name__\n",
    "    return token"
   ],
   "outputs": [
    {
     "output_type": "error",
     "ename": "SyntaxError",
     "evalue": "invalid character in identifier (<ipython-input-1-df3c08dde5b5>, line 1)",
     "traceback": [
      "\u001b[0;36m  File \u001b[0;32m\"<ipython-input-1-df3c08dde5b5>\"\u001b[0;36m, line \u001b[0;32m1\u001b[0m\n\u001b[0;31m    def get_token(node):\u001b[0m\n\u001b[0m                ^\u001b[0m\n\u001b[0;31mSyntaxError\u001b[0m\u001b[0;31m:\u001b[0m invalid character in identifier\n"
     ]
    }
   ],
   "metadata": {}
  },
  {
   "cell_type": "code",
   "execution_count": 131,
   "source": [
    "def python2tree(line):\n",
    "    atok = asttokens.ASTTokens(line, parse=True)\n",
    "    return atok, atok.tree\n",
    "\n",
    "def traverse_python_tree(atok, root):\n",
    "    iter_children = asttokens.util.iter_children_func(root)\n",
    "    node_json = {}\n",
    "    current_global = {}\n",
    "    current_idx, global_idx = 1, 1\n",
    "    for node in asttokens.util.walk(root):\n",
    "        if not next(iter_children(node), None) is None:\n",
    "            child_num = 0\n",
    "            for child in iter_children(node):\n",
    "                child_num += 1\n",
    "            global_idx = global_idx + child_num\n",
    "            current_global[current_idx] = global_idx\n",
    "        current_idx += 1\n",
    "    # print current_global\n",
    "    current_idx = 1\n",
    "    for node in asttokens.util.walk(root):\n",
    "        # print current_idx\n",
    "        # idx_upper = current_idx\n",
    "        node_json[\"%s%s\"%(Constants.NODE_FIX, current_idx)] = {\"node\": type(node).__name__, \"children\": [], \"parent\": None}\n",
    "        # idx_upper = len(node_json)\n",
    "        if not next(iter_children(node), None) is None:\n",
    "            child_idx = 0\n",
    "            for child in iter_children(node):\n",
    "                child_idx += 1\n",
    "                node_json[\"%s%s\"%(Constants.NODE_FIX, current_idx)]['children'].insert(0, \"%s%s\"%(Constants.NODE_FIX, current_global[current_idx]-child_idx+1))\n",
    "        else: # leaf node\n",
    "            node_json[\"%s%s\"%(Constants.NODE_FIX, current_idx)]['children'].append(atok.get_text(node))\n",
    "\n",
    "        current_idx += 1\n",
    "\n",
    "    # update_parent\n",
    "    for k, node in node_json.items():\n",
    "        children = [c for c in node['children'] if c.startswith(Constants.NODE_FIX)]\n",
    "        if len(children):\n",
    "            for c in children:\n",
    "                node_json[c]['parent'] = k\n",
    "\n",
    "    return node_json"
   ],
   "outputs": [],
   "metadata": {}
  },
  {
   "cell_type": "code",
   "execution_count": 183,
   "source": [
    "code = '''\n",
    "def get_cpu_list(ip, user, passwd):\n",
    "    cmd = 'statcpu -iter 1 -t'\n",
    "    showcpu_list = run_ssh_thread(ip, user, passwd, cmd)\n",
    "    cpu_list = []\n",
    "    line_num = 0\n",
    "    for line in showcpu_list:\n",
    "        line_num += 1\n",
    "        if (line_num >= 3):\n",
    "            cpu_stats = line.split()\n",
    "            if (len(cpu_stats) > 2):\n",
    "                cpu_list.append(cpu_stats[0].split(',')[0])\n",
    "    return cpu_list\n",
    "'''"
   ],
   "outputs": [],
   "metadata": {}
  },
  {
   "cell_type": "code",
   "execution_count": 184,
   "source": [
    "atok = asttokens.ASTTokens(code, parse=True)"
   ],
   "outputs": [],
   "metadata": {}
  },
  {
   "cell_type": "code",
   "execution_count": 185,
   "source": [
    "ast.dump(atok.tree)"
   ],
   "outputs": [
    {
     "output_type": "execute_result",
     "data": {
      "text/plain": [
       "\"Module(body=[FunctionDef(name='get_cpu_list', args=arguments(args=[arg(arg='ip', annotation=None), arg(arg='user', annotation=None), arg(arg='passwd', annotation=None)], vararg=None, kwonlyargs=[], kw_defaults=[], kwarg=None, defaults=[]), body=[Assign(targets=[Name(id='cmd', ctx=Store())], value=Str(s='statcpu -iter 1 -t')), Assign(targets=[Name(id='showcpu_list', ctx=Store())], value=Call(func=Name(id='run_ssh_thread', ctx=Load()), args=[Name(id='ip', ctx=Load()), Name(id='user', ctx=Load()), Name(id='passwd', ctx=Load()), Name(id='cmd', ctx=Load())], keywords=[])), Assign(targets=[Name(id='cpu_list', ctx=Store())], value=List(elts=[], ctx=Load())), Assign(targets=[Name(id='line_num', ctx=Store())], value=Num(n=0)), For(target=Name(id='line', ctx=Store()), iter=Name(id='showcpu_list', ctx=Load()), body=[AugAssign(target=Name(id='line_num', ctx=Store()), op=Add(), value=Num(n=1)), If(test=Compare(left=Name(id='line_num', ctx=Load()), ops=[GtE()], comparators=[Num(n=3)]), body=[Assign(targets=[Name(id='cpu_stats', ctx=Store())], value=Call(func=Attribute(value=Name(id='line', ctx=Load()), attr='split', ctx=Load()), args=[], keywords=[])), If(test=Compare(left=Call(func=Name(id='len', ctx=Load()), args=[Name(id='cpu_stats', ctx=Load())], keywords=[]), ops=[Gt()], comparators=[Num(n=2)]), body=[Expr(value=Call(func=Attribute(value=Name(id='cpu_list', ctx=Load()), attr='append', ctx=Load()), args=[Subscript(value=Call(func=Attribute(value=Subscript(value=Name(id='cpu_stats', ctx=Load()), slice=Index(value=Num(n=0)), ctx=Load()), attr='split', ctx=Load()), args=[Str(s=',')], keywords=[]), slice=Index(value=Num(n=0)), ctx=Load())], keywords=[]))], orelse=[])], orelse=[])], orelse=[]), Return(value=Name(id='cpu_list', ctx=Load()))], decorator_list=[], returns=None)])\""
      ]
     },
     "metadata": {},
     "execution_count": 185
    }
   ],
   "metadata": {}
  },
  {
   "cell_type": "code",
   "execution_count": 240,
   "source": [
    "def visit(node,tokens):\n",
    "  children = [i for i in ast.iter_child_nodes(node) if i.__class__.__name__ != 'Load' and atok.get_text(i) != '']\n",
    "  # print([i.__class__.__name__ for i in ast.iter_child_nodes(node) if i.__class__.__name__ !=  'Load'])\n",
    "\n",
    "  # print(children)\n",
    "  \n",
    "  is_leaf = len(children) == 0\n",
    "  # print(is_leaf)\n",
    "\n",
    "  if not is_leaf:\n",
    "    print(node.__class__.__name__) \n",
    "    # print('father')\n",
    "  else:\n",
    "    print(node.__class__.__name__,' = ',atok.get_text(node),atok.get_text_range(node))\n",
    "    tokens.append(node)\n",
    "\n",
    "  # print('visit', node,atok.get_text(node))\n",
    "  # print('child')\n",
    "  # children = ast.iter_child_nodes(node)\n",
    "  for child in children:\n",
    "    visit(child,tokens)"
   ],
   "outputs": [],
   "metadata": {}
  },
  {
   "cell_type": "code",
   "execution_count": 241,
   "source": [
    "root = atok.tree"
   ],
   "outputs": [],
   "metadata": {}
  },
  {
   "cell_type": "code",
   "execution_count": 242,
   "source": [
    "tokens = []"
   ],
   "outputs": [],
   "metadata": {}
  },
  {
   "cell_type": "code",
   "execution_count": 243,
   "source": [
    "visit(root,tokens)"
   ],
   "outputs": [
    {
     "output_type": "stream",
     "name": "stdout",
     "text": [
      "Module\n",
      "FunctionDef\n",
      "arguments\n",
      "arg  =  ip (18, 20)\n",
      "arg  =  user (22, 26)\n",
      "arg  =  passwd (28, 34)\n",
      "Assign\n",
      "Name  =  cmd (41, 44)\n",
      "Str  =  'statcpu -iter 1 -t' (47, 67)\n",
      "Assign\n",
      "Name  =  showcpu_list (72, 84)\n",
      "Call\n",
      "Name  =  run_ssh_thread (87, 101)\n",
      "Name  =  ip (102, 104)\n",
      "Name  =  user (106, 110)\n",
      "Name  =  passwd (112, 118)\n",
      "Name  =  cmd (120, 123)\n",
      "Assign\n",
      "Name  =  cpu_list (129, 137)\n",
      "List  =  [] (140, 142)\n",
      "Assign\n",
      "Name  =  line_num (147, 155)\n",
      "Num  =  0 (158, 159)\n",
      "For\n",
      "Name  =  line (168, 172)\n",
      "Name  =  showcpu_list (176, 188)\n",
      "AugAssign\n",
      "Name  =  line_num (198, 206)\n",
      "Num  =  1 (210, 211)\n",
      "If\n",
      "Compare\n",
      "Name  =  line_num (224, 232)\n",
      "Num  =  3 (236, 237)\n",
      "Assign\n",
      "Name  =  cpu_stats (252, 261)\n",
      "Call\n",
      "Attribute\n",
      "Name  =  line (264, 268)\n",
      "If\n",
      "Compare\n",
      "Call\n",
      "Name  =  len (293, 296)\n",
      "Name  =  cpu_stats (297, 306)\n",
      "Num  =  2 (310, 311)\n",
      "Expr\n",
      "Call\n",
      "Attribute\n",
      "Name  =  cpu_list (330, 338)\n",
      "Subscript\n",
      "Call\n",
      "Attribute\n",
      "Subscript\n",
      "Name  =  cpu_stats (346, 355)\n",
      "Index\n",
      "Num  =  0 (356, 357)\n",
      "Str  =  ',' (365, 368)\n",
      "Index\n",
      "Num  =  0 (370, 371)\n",
      "Return\n",
      "Name  =  cpu_list (385, 393)\n"
     ]
    }
   ],
   "metadata": {}
  },
  {
   "cell_type": "code",
   "execution_count": 244,
   "source": [
    "code[385:393]"
   ],
   "outputs": [
    {
     "output_type": "execute_result",
     "data": {
      "text/plain": [
       "'cpu_list'"
      ]
     },
     "metadata": {},
     "execution_count": 244
    }
   ],
   "metadata": {}
  },
  {
   "cell_type": "code",
   "execution_count": 245,
   "source": [
    "len(tokens)"
   ],
   "outputs": [
    {
     "output_type": "execute_result",
     "data": {
      "text/plain": [
       "32"
      ]
     },
     "metadata": {},
     "execution_count": 245
    }
   ],
   "metadata": {}
  },
  {
   "cell_type": "code",
   "execution_count": 248,
   "source": [
    "{f'{atok.get_text_range(i)[0]}-{atok.get_text_range(i)[1]}':atok.get_text(i) for i in tokens}"
   ],
   "outputs": [
    {
     "output_type": "execute_result",
     "data": {
      "text/plain": [
       "{'18-20': 'ip',\n",
       " '22-26': 'user',\n",
       " '28-34': 'passwd',\n",
       " '41-44': 'cmd',\n",
       " '47-67': \"'statcpu -iter 1 -t'\",\n",
       " '72-84': 'showcpu_list',\n",
       " '87-101': 'run_ssh_thread',\n",
       " '102-104': 'ip',\n",
       " '106-110': 'user',\n",
       " '112-118': 'passwd',\n",
       " '120-123': 'cmd',\n",
       " '129-137': 'cpu_list',\n",
       " '140-142': '[]',\n",
       " '147-155': 'line_num',\n",
       " '158-159': '0',\n",
       " '168-172': 'line',\n",
       " '176-188': 'showcpu_list',\n",
       " '198-206': 'line_num',\n",
       " '210-211': '1',\n",
       " '224-232': 'line_num',\n",
       " '236-237': '3',\n",
       " '252-261': 'cpu_stats',\n",
       " '264-268': 'line',\n",
       " '293-296': 'len',\n",
       " '297-306': 'cpu_stats',\n",
       " '310-311': '2',\n",
       " '330-338': 'cpu_list',\n",
       " '346-355': 'cpu_stats',\n",
       " '356-357': '0',\n",
       " '365-368': \"','\",\n",
       " '370-371': '0',\n",
       " '385-393': 'cpu_list'}"
      ]
     },
     "metadata": {},
     "execution_count": 248
    }
   ],
   "metadata": {}
  },
  {
   "cell_type": "code",
   "execution_count": 226,
   "source": [
    "code_tokens = atok.get_tokens(root)"
   ],
   "outputs": [],
   "metadata": {}
  },
  {
   "cell_type": "code",
   "execution_count": 232,
   "source": [
    "{f'{i.startpos}-{i.endpos}':i.string for i in atok.get_tokens(root) if i.string.strip().strip('\\n')}"
   ],
   "outputs": [
    {
     "output_type": "execute_result",
     "data": {
      "text/plain": [
       "{'1-4': 'def',\n",
       " '5-17': 'get_cpu_list',\n",
       " '17-18': '(',\n",
       " '18-20': 'ip',\n",
       " '20-21': ',',\n",
       " '22-26': 'user',\n",
       " '26-27': ',',\n",
       " '28-34': 'passwd',\n",
       " '34-35': ')',\n",
       " '35-36': ':',\n",
       " '41-44': 'cmd',\n",
       " '45-46': '=',\n",
       " '47-67': \"'statcpu -iter 1 -t'\",\n",
       " '72-84': 'showcpu_list',\n",
       " '85-86': '=',\n",
       " '87-101': 'run_ssh_thread',\n",
       " '101-102': '(',\n",
       " '102-104': 'ip',\n",
       " '104-105': ',',\n",
       " '106-110': 'user',\n",
       " '110-111': ',',\n",
       " '112-118': 'passwd',\n",
       " '118-119': ',',\n",
       " '120-123': 'cmd',\n",
       " '123-124': ')',\n",
       " '129-137': 'cpu_list',\n",
       " '138-139': '=',\n",
       " '140-141': '[',\n",
       " '141-142': ']',\n",
       " '147-155': 'line_num',\n",
       " '156-157': '=',\n",
       " '158-159': '0',\n",
       " '164-167': 'for',\n",
       " '168-172': 'line',\n",
       " '173-175': 'in',\n",
       " '176-188': 'showcpu_list',\n",
       " '188-189': ':',\n",
       " '198-206': 'line_num',\n",
       " '207-209': '+=',\n",
       " '210-211': '1',\n",
       " '220-222': 'if',\n",
       " '223-224': '(',\n",
       " '224-232': 'line_num',\n",
       " '233-235': '>=',\n",
       " '236-237': '3',\n",
       " '237-238': ')',\n",
       " '238-239': ':',\n",
       " '252-261': 'cpu_stats',\n",
       " '262-263': '=',\n",
       " '264-268': 'line',\n",
       " '268-269': '.',\n",
       " '269-274': 'split',\n",
       " '274-275': '(',\n",
       " '275-276': ')',\n",
       " '289-291': 'if',\n",
       " '292-293': '(',\n",
       " '293-296': 'len',\n",
       " '296-297': '(',\n",
       " '297-306': 'cpu_stats',\n",
       " '306-307': ')',\n",
       " '308-309': '>',\n",
       " '310-311': '2',\n",
       " '311-312': ')',\n",
       " '312-313': ':',\n",
       " '330-338': 'cpu_list',\n",
       " '338-339': '.',\n",
       " '339-345': 'append',\n",
       " '345-346': '(',\n",
       " '346-355': 'cpu_stats',\n",
       " '355-356': '[',\n",
       " '356-357': '0',\n",
       " '357-358': ']',\n",
       " '358-359': '.',\n",
       " '359-364': 'split',\n",
       " '364-365': '(',\n",
       " '365-368': \"','\",\n",
       " '368-369': ')',\n",
       " '369-370': '[',\n",
       " '370-371': '0',\n",
       " '371-372': ']',\n",
       " '372-373': ')',\n",
       " '378-384': 'return',\n",
       " '385-393': 'cpu_list'}"
      ]
     },
     "metadata": {},
     "execution_count": 232
    }
   ],
   "metadata": {}
  },
  {
   "cell_type": "code",
   "execution_count": 136,
   "source": [
    "tokens"
   ],
   "outputs": [
    {
     "output_type": "execute_result",
     "data": {
      "text/plain": [
       "['ip',\n",
       " 'user',\n",
       " 'passwd',\n",
       " 'cmd',\n",
       " \"'statcpu -iter 1 -t'\",\n",
       " 'showcpu_list',\n",
       " 'run_ssh_thread',\n",
       " 'ip',\n",
       " 'user',\n",
       " 'passwd',\n",
       " 'cmd',\n",
       " 'cpu_list',\n",
       " '[]',\n",
       " 'line_num',\n",
       " '0',\n",
       " 'line',\n",
       " 'showcpu_list',\n",
       " 'line_num',\n",
       " '1',\n",
       " 'line_num',\n",
       " '3',\n",
       " 'cpu_stats',\n",
       " 'line',\n",
       " 'len',\n",
       " 'cpu_stats',\n",
       " '2',\n",
       " 'cpu_list',\n",
       " 'cpu_stats',\n",
       " '0',\n",
       " \"','\",\n",
       " '0',\n",
       " 'cpu_list']"
      ]
     },
     "metadata": {},
     "execution_count": 136
    }
   ],
   "metadata": {}
  },
  {
   "cell_type": "code",
   "execution_count": 137,
   "source": [
    "' '.join(tokens)"
   ],
   "outputs": [
    {
     "output_type": "execute_result",
     "data": {
      "text/plain": [
       "\"ip user passwd cmd 'statcpu -iter 1 -t' showcpu_list run_ssh_thread ip user passwd cmd cpu_list [] line_num 0 line showcpu_list line_num 1 line_num 3 cpu_stats line len cpu_stats 2 cpu_list cpu_stats 0 ',' 0 cpu_list\""
      ]
     },
     "metadata": {},
     "execution_count": 137
    }
   ],
   "metadata": {}
  },
  {
   "cell_type": "code",
   "execution_count": null,
   "source": [
    "code = '''\n",
    "def get_cpu_list(ip, user, passwd):\n",
    "    cmd = 'statcpu -iter 1 -t'\n",
    "    showcpu_list = run_ssh_thread(ip, user, passwd, cmd)\n",
    "    cpu_list = []\n",
    "    line_num = 0\n",
    "    for line in showcpu_list:\n",
    "        line_num += 1\n",
    "        if (line_num >= 3):\n",
    "            cpu_stats = line.split()\n",
    "            if (len(cpu_stats) > 2):\n",
    "                cpu_list.append(cpu_stats[0].split(',')[0])\n",
    "    return cpu_list\n",
    "'''"
   ],
   "outputs": [],
   "metadata": {}
  },
  {
   "cell_type": "code",
   "execution_count": null,
   "source": [
    "# use javalang to generate ASTs and depth-first traverse to generate ast nodes corpus\n",
    "def get_token(node):\n",
    "    token = 'None'\n",
    "    if isinstance(node, str):\n",
    "        token = node\n",
    "    elif isinstance(node, set):\n",
    "        token = 'Modifier'\n",
    "    elif isinstance(node, Node):\n",
    "        token = node.__class__.__name__\n",
    "    return token\n",
    "\n",
    "\n",
    "def get_child(root):\n",
    "    if isinstance(root, Node):\n",
    "        children = root.children\n",
    "    elif isinstance(root, set):\n",
    "        children = list(root)\n",
    "    else:\n",
    "        children = []\n",
    "\n",
    "    def expand(nested_list):\n",
    "        for item in nested_list:\n",
    "            if isinstance(item, list):\n",
    "                for sub_item in expand(item):\n",
    "                    yield sub_item\n",
    "            elif item:\n",
    "                yield item\n",
    "\n",
    "    return list(expand(children))\n",
    "\n",
    "\n",
    "def get_sequence(node, sequence):\n",
    "    token, children = get_token(node), get_child(node)\n",
    "    sequence.append(token)\n",
    "    for child in children:\n",
    "        get_sequence(child, sequence)\n",
    "\n",
    "\n",
    "def parse_program(func):\n",
    "    tokens = javalang.tokenizer.tokenize(func)\n",
    "    parser = javalang.parser.Parser(tokens)\n",
    "    tree = parser.parse_member_declaration()\n",
    "    return tree\n"
   ],
   "outputs": [],
   "metadata": {}
  }
 ],
 "metadata": {
  "orig_nbformat": 4,
  "language_info": {
   "name": "python",
   "version": "3.6.12",
   "mimetype": "text/x-python",
   "codemirror_mode": {
    "name": "ipython",
    "version": 3
   },
   "pygments_lexer": "ipython3",
   "nbconvert_exporter": "python",
   "file_extension": ".py"
  },
  "kernelspec": {
   "name": "python3",
   "display_name": "Python 3.6.12 64-bit ('wy': conda)"
  },
  "interpreter": {
   "hash": "2ac675318a9c64d79aae90271192350b504049c37b016290b34e9dcb023d3678"
  }
 },
 "nbformat": 4,
 "nbformat_minor": 2
}