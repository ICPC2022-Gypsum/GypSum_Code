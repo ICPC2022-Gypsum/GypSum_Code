{
 "cells": [
  {
   "cell_type": "code",
   "execution_count": 1,
   "metadata": {},
   "outputs": [],
   "source": [
    "from python_graph import *\n",
    "import json\n",
    "from tqdm import tqdm\n"
   ]
  },
  {
   "cell_type": "code",
   "execution_count": 2,
   "metadata": {},
   "outputs": [],
   "source": [
    "code = '''\n",
    "def lookupNameservers(name, timeout=None): \n",
    "    return getResolver().lookupNameservers(name, timeout)\n",
    "'''"
   ]
  },
  {
   "cell_type": "code",
   "execution_count": 5,
   "metadata": {},
   "outputs": [],
   "source": [
    "code = '''\n",
    "public int add_num(int num_a,int num_b){\n",
    "    if(num_a==0)\n",
    "      num_a = num_a + 1;\n",
    "    return num_a + num_b;  \n",
    "}\n",
    "'''"
   ]
  },
  {
   "cell_type": "code",
   "execution_count": 3,
   "metadata": {},
   "outputs": [
    {
     "data": {
      "text/plain": [
       "([48720,\n",
       "  50269,\n",
       "  50331,\n",
       "  13724,\n",
       "  658,\n",
       "  2523,\n",
       "  254,\n",
       "  3697,\n",
       "  50265,\n",
       "  766,\n",
       "  25386,\n",
       "  4146,\n",
       "  42555,\n",
       "  20653,\n",
       "  49385,\n",
       "  20653,\n",
       "  50331,\n",
       "  120,\n",
       "  5032,\n",
       "  35934,\n",
       "  766,\n",
       "  25386],\n",
       " [[0,\n",
       "   1,\n",
       "   2,\n",
       "   8,\n",
       "   8,\n",
       "   12,\n",
       "   1,\n",
       "   2,\n",
       "   2,\n",
       "   3,\n",
       "   2,\n",
       "   4,\n",
       "   2,\n",
       "   5,\n",
       "   2,\n",
       "   6,\n",
       "   2,\n",
       "   7,\n",
       "   1,\n",
       "   8,\n",
       "   9,\n",
       "   10,\n",
       "   10,\n",
       "   11,\n",
       "   8,\n",
       "   9,\n",
       "   8,\n",
       "   10,\n",
       "   8,\n",
       "   11,\n",
       "   1,\n",
       "   12,\n",
       "   12,\n",
       "   13,\n",
       "   14,\n",
       "   20,\n",
       "   20,\n",
       "   21,\n",
       "   13,\n",
       "   14,\n",
       "   14,\n",
       "   15,\n",
       "   15,\n",
       "   16,\n",
       "   16,\n",
       "   17,\n",
       "   16,\n",
       "   18,\n",
       "   16,\n",
       "   19,\n",
       "   13,\n",
       "   20,\n",
       "   13,\n",
       "   21,\n",
       "   2,\n",
       "   9,\n",
       "   9,\n",
       "   10,\n",
       "   10,\n",
       "   11,\n",
       "   11,\n",
       "   16,\n",
       "   16,\n",
       "   20,\n",
       "   20,\n",
       "   21],\n",
       "  [1,\n",
       "   0,\n",
       "   8,\n",
       "   2,\n",
       "   12,\n",
       "   8,\n",
       "   2,\n",
       "   1,\n",
       "   3,\n",
       "   2,\n",
       "   4,\n",
       "   2,\n",
       "   5,\n",
       "   2,\n",
       "   6,\n",
       "   2,\n",
       "   7,\n",
       "   2,\n",
       "   8,\n",
       "   1,\n",
       "   10,\n",
       "   9,\n",
       "   11,\n",
       "   10,\n",
       "   9,\n",
       "   8,\n",
       "   10,\n",
       "   8,\n",
       "   11,\n",
       "   8,\n",
       "   12,\n",
       "   1,\n",
       "   13,\n",
       "   12,\n",
       "   20,\n",
       "   14,\n",
       "   21,\n",
       "   20,\n",
       "   14,\n",
       "   13,\n",
       "   15,\n",
       "   14,\n",
       "   16,\n",
       "   15,\n",
       "   17,\n",
       "   16,\n",
       "   18,\n",
       "   16,\n",
       "   19,\n",
       "   16,\n",
       "   20,\n",
       "   13,\n",
       "   21,\n",
       "   13,\n",
       "   9,\n",
       "   2,\n",
       "   10,\n",
       "   9,\n",
       "   11,\n",
       "   10,\n",
       "   16,\n",
       "   11,\n",
       "   20,\n",
       "   16,\n",
       "   21,\n",
       "   20]],\n",
       " [0,\n",
       "  0,\n",
       "  1,\n",
       "  1,\n",
       "  1,\n",
       "  1,\n",
       "  0,\n",
       "  0,\n",
       "  0,\n",
       "  0,\n",
       "  0,\n",
       "  0,\n",
       "  0,\n",
       "  0,\n",
       "  0,\n",
       "  0,\n",
       "  0,\n",
       "  0,\n",
       "  0,\n",
       "  0,\n",
       "  1,\n",
       "  1,\n",
       "  1,\n",
       "  1,\n",
       "  0,\n",
       "  0,\n",
       "  0,\n",
       "  0,\n",
       "  0,\n",
       "  0,\n",
       "  0,\n",
       "  0,\n",
       "  0,\n",
       "  0,\n",
       "  1,\n",
       "  1,\n",
       "  1,\n",
       "  1,\n",
       "  0,\n",
       "  0,\n",
       "  0,\n",
       "  0,\n",
       "  0,\n",
       "  0,\n",
       "  0,\n",
       "  0,\n",
       "  0,\n",
       "  0,\n",
       "  0,\n",
       "  0,\n",
       "  0,\n",
       "  0,\n",
       "  0,\n",
       "  0,\n",
       "  3,\n",
       "  3,\n",
       "  3,\n",
       "  3,\n",
       "  3,\n",
       "  3,\n",
       "  3,\n",
       "  3,\n",
       "  3,\n",
       "  3,\n",
       "  3,\n",
       "  3],\n",
       " [21],\n",
       " ['look',\n",
       "  'up',\n",
       "  'Ġnames',\n",
       "  'er',\n",
       "  'vers',\n",
       "  'Ġname',\n",
       "  'Ġtimeout',\n",
       "  'Ġnone',\n",
       "  'Ġget',\n",
       "  'Ġres',\n",
       "  'olver',\n",
       "  'Ġname',\n",
       "  'Ġtimeout'],\n",
       " [3, 4, 5, 6, 7, 9, 10, 11, 17, 18, 19, 20, 21])"
      ]
     },
     "execution_count": 3,
     "metadata": {},
     "output_type": "execute_result"
    }
   ],
   "source": [
    "get_graph_from_source(code)\n"
   ]
  },
  {
   "cell_type": "code",
   "execution_count": 8,
   "metadata": {},
   "outputs": [
    {
     "name": "stderr",
     "output_type": "stream",
     "text": [
      "100%|██████████| 17446/17446 [02:23<00:00, 121.25it/s]\n"
     ]
    }
   ],
   "source": [
    "# from python_graph import *\n",
    "# import json\n",
    "# from tqdm import tqdm\n",
    "java_codes = open('../data/python/test/code.original', 'rb').readlines()\n",
    "\n",
    "\n",
    "def get_raw_code(code):\n",
    "  return code.decode('utf-8').replace(' DCNL DCSP ', '\\n\\t').replace(' DCNL  DCSP ', '\\n\\t').replace(' DCNL   DCSP ',\n",
    "                                                                                                     '\\n\\t').replace(\n",
    "      ' DCNL ',\n",
    "      '\\n').replace(\n",
    "      ' DCSP ', '\\t')\n",
    "\n",
    "\n",
    "program_data = []\n",
    "for code in tqdm(java_codes):\n",
    "  code = get_raw_code(code)\n",
    "  try:\n",
    "    program_data.append(get_graph_from_source(code))\n",
    "  except:\n",
    "    print(code)\n",
    "    break\n"
   ]
  },
  {
   "cell_type": "code",
   "execution_count": 9,
   "metadata": {},
   "outputs": [],
   "source": [
    "import pickle as pkl\n",
    "\n",
    "with open('./python_test_split.pkl','wb') as f:\n",
    "  pkl.dump(program_data,f)"
   ]
  },
  {
   "cell_type": "code",
   "execution_count": 11,
   "metadata": {},
   "outputs": [
    {
     "data": {
      "text/plain": [
       "17446"
      ]
     },
     "execution_count": 11,
     "metadata": {},
     "output_type": "execute_result"
    }
   ],
   "source": [
    "len(program_data)"
   ]
  },
  {
   "cell_type": "code",
   "execution_count": null,
   "metadata": {},
   "outputs": [],
   "source": [
    "import pickle as pkl"
   ]
  },
  {
   "cell_type": "code",
   "execution_count": null,
   "metadata": {},
   "outputs": [],
   "source": [
    "with open('../data/java/dev/graph.pkl','rb') as f:\n",
    "  program_data = pkl.load(f)"
   ]
  },
  {
   "cell_type": "code",
   "execution_count": null,
   "metadata": {},
   "outputs": [],
   "source": [
    "program_data[20849]\n"
   ]
  },
  {
   "cell_type": "code",
   "execution_count": null,
   "metadata": {},
   "outputs": [],
   "source": [
    "max([len(i[0]) for i in program_data])"
   ]
  },
  {
   "cell_type": "code",
   "execution_count": null,
   "metadata": {},
   "outputs": [],
   "source": [
    "import numpy as np\n",
    "y = [len(i[0]) for i in program_data]\n",
    "x = [i for i in range(len(program_data))]"
   ]
  },
  {
   "cell_type": "code",
   "execution_count": null,
   "metadata": {},
   "outputs": [],
   "source": [
    "(np.array(y) > 5000).sum()"
   ]
  },
  {
   "cell_type": "code",
   "execution_count": null,
   "metadata": {},
   "outputs": [],
   "source": []
  },
  {
   "cell_type": "code",
   "execution_count": null,
   "metadata": {},
   "outputs": [],
   "source": [
    "112/60000"
   ]
  },
  {
   "cell_type": "code",
   "execution_count": null,
   "metadata": {},
   "outputs": [],
   "source": [
    "np.mean(y)"
   ]
  },
  {
   "cell_type": "code",
   "execution_count": null,
   "metadata": {},
   "outputs": [],
   "source": [
    "from matplotlib import pyplot as plt"
   ]
  },
  {
   "cell_type": "code",
   "execution_count": null,
   "metadata": {},
   "outputs": [],
   "source": [
    "plt.hist(y,bins=80)"
   ]
  },
  {
   "cell_type": "code",
   "execution_count": null,
   "metadata": {},
   "outputs": [],
   "source": [
    "len(program_data)"
   ]
  },
  {
   "cell_type": "code",
   "execution_count": null,
   "metadata": {},
   "outputs": [],
   "source": [
    "len(token_ids)"
   ]
  },
  {
   "cell_type": "code",
   "execution_count": null,
   "metadata": {},
   "outputs": [],
   "source": [
    "for i in range(2000):\n",
    "  x,node_ids,_,_,_,tokens,ids = program_data[i]\n",
    "  tmp_dict = {node_id:idx for idx,node_id in enumerate(node_ids)}\n",
    "  graph_ids = ids\n",
    "  graph_idx = [tmp_dict[n_id] for n_id in graph_ids]\n",
    "  assert ' '.join(ast_tokenizer.convert_ids_to_tokens([x[i] for i in graph_ids])) == ' '.join(tokens)\n",
    "# del tmp_dict"
   ]
  },
  {
   "cell_type": "code",
   "execution_count": null,
   "metadata": {},
   "outputs": [],
   "source": [
    "' '.join(ast_tokenizer.convert_ids_to_tokens([x[i] for i in graph_ids]))"
   ]
  },
  {
   "cell_type": "code",
   "execution_count": null,
   "metadata": {},
   "outputs": [],
   "source": [
    "' '.join(tokens)"
   ]
  },
  {
   "cell_type": "code",
   "execution_count": null,
   "metadata": {},
   "outputs": [],
   "source": [
    "x"
   ]
  },
  {
   "cell_type": "code",
   "execution_count": null,
   "metadata": {},
   "outputs": [],
   "source": [
    "ids"
   ]
  },
  {
   "cell_type": "code",
   "execution_count": null,
   "metadata": {},
   "outputs": [],
   "source": [
    "len(ast_tokenizer)"
   ]
  },
  {
   "cell_type": "code",
   "execution_count": null,
   "metadata": {},
   "outputs": [],
   "source": [
    "ast_tokenizer.unk_token_id"
   ]
  },
  {
   "cell_type": "code",
   "execution_count": null,
   "metadata": {},
   "outputs": [],
   "source": [
    "import javalang\n",
    "from javalang.ast import Node\n",
    "from transformers import RobertaTokenizer, RobertaConfig, RobertaModel, DataCollatorWithPadding\n",
    "from anytree import AnyNode\n",
    "from tqdm import tqdm\n",
    "from treelib import Tree\n",
    "\n",
    "'''\n",
    "Child 0\n",
    "Parent 1\n",
    "NextSib 2\n",
    "NextUse 3\n",
    "NextToken 4\n",
    "SplitChild 5\n",
    "SplitParent 6\n",
    "SplitNextSib 7\n",
    "LoopNext\n",
    "'''\n",
    "Child = 0\n",
    "Parent = 1\n",
    "NextSib = 2\n",
    "NextUse = 3\n",
    "NextToken = 4\n",
    "SplitChild = 5\n",
    "SplitParent = 6\n",
    "SplitNextSib = 7\n",
    "LoopNext = 8\n",
    "ControlOut = 9\n",
    "ConditionNext = 10\n",
    "\n",
    "checkpoint = 'microsoft/codebert-base'\n",
    "tokenize_token = '_<SplitNode>_'\n",
    "ast_tokenizer = RobertaTokenizer.from_pretrained(checkpoint)\n",
    "javalang_special_tokens = ['CompilationUnit', 'Import', 'Documented', 'Declaration', 'TypeDeclaration', 'PackageDeclaration',\n",
    "                           'ClassDeclaration', 'EnumDeclaration', 'InterfaceDeclaration', 'AnnotationDeclaration', 'Type',\n",
    "                           'BasicType', 'ReferenceType', 'TypeArgument', 'TypeParameter', 'Annotation', 'ElementValuePair',\n",
    "                           'ElementArrayValue', 'Member', 'MethodDeclaration', 'FieldDeclaration', 'ConstructorDeclaration',\n",
    "                           'ConstantDeclaration', 'ArrayInitializer', 'VariableDeclaration', 'LocalVariableDeclaration',\n",
    "                           'VariableDeclarator', 'FormalParameter', 'InferredFormalParameter', 'Statement', 'IfStatement',\n",
    "                           'WhileStatement', 'DoStatement', 'ForStatement', 'AssertStatement', 'BreakStatement', 'ContinueStatement',\n",
    "                           'ReturnStatement', 'ThrowStatement', 'SynchronizedStatement', 'TryStatement', 'SwitchStatement',\n",
    "                           'BlockStatement', 'StatementExpression', 'TryResource', 'CatchClause', 'CatchClauseParameter',\n",
    "                           'SwitchStatementCase', 'ForControl', 'EnhancedForControl', 'Expression', 'Assignment', 'TernaryExpression',\n",
    "                           'BinaryOperation', 'Cast', 'MethodReference', 'LambdaExpression', 'Primary', 'Literal', 'This',\n",
    "                           'MemberReference', 'Invocation', 'ExplicitConstructorInvocation', 'SuperConstructorInvocation',\n",
    "                           'MethodInvocation', 'SuperMethodInvocation', 'SuperMemberReference', 'ArraySelector', 'ClassReference',\n",
    "                           'VoidClassReference', 'Creator', 'ArrayCreator', 'ClassCreator', 'InnerClassCreator', 'EnumBody',\n",
    "                           'EnumConstantDeclaration', 'AnnotationMethod', 'Modifier', tokenize_token]\n",
    "special_tokens_dict = {'additional_special_tokens': javalang_special_tokens}\n",
    "num_added_toks = ast_tokenizer.add_special_tokens(special_tokens_dict)\n"
   ]
  },
  {
   "cell_type": "code",
   "execution_count": null,
   "metadata": {},
   "outputs": [],
   "source": [
    "tokens = ast_tokenizer.tokenize('test_sentences_function')"
   ]
  },
  {
   "cell_type": "code",
   "execution_count": null,
   "metadata": {},
   "outputs": [],
   "source": [
    "ids = ast_tokenizer.convert_tokens_to_ids(tokens)"
   ]
  },
  {
   "cell_type": "code",
   "execution_count": null,
   "metadata": {},
   "outputs": [],
   "source": [
    "ast_tokenizer.convert_tokens_to_string(tokens)"
   ]
  },
  {
   "cell_type": "code",
   "execution_count": null,
   "metadata": {},
   "outputs": [],
   "source": []
  }
 ],
 "metadata": {
  "interpreter": {
   "hash": "2ac675318a9c64d79aae90271192350b504049c37b016290b34e9dcb023d3678"
  },
  "kernelspec": {
   "display_name": "Python 3.6.12 64-bit ('wy': conda)",
   "name": "python3"
  },
  "language_info": {
   "codemirror_mode": {
    "name": "ipython",
    "version": 3
   },
   "file_extension": ".py",
   "mimetype": "text/x-python",
   "name": "python",
   "nbconvert_exporter": "python",
   "pygments_lexer": "ipython3",
   "version": "3.6.12"
  },
  "orig_nbformat": 4
 },
 "nbformat": 4,
 "nbformat_minor": 2
}
